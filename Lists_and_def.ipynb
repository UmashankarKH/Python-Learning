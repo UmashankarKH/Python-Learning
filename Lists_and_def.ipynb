{
  "nbformat": 4,
  "nbformat_minor": 0,
  "metadata": {
    "colab": {
      "provenance": [],
      "authorship_tag": "ABX9TyO/yq/m4RGXchPBBxTsmVfK",
      "include_colab_link": true
    },
    "kernelspec": {
      "name": "python3",
      "display_name": "Python 3"
    },
    "language_info": {
      "name": "python"
    }
  },
  "cells": [
    {
      "cell_type": "markdown",
      "metadata": {
        "id": "view-in-github",
        "colab_type": "text"
      },
      "source": [
        "<a href=\"https://colab.research.google.com/github/UmashankarKH/Python-Learning/blob/master/Lists_and_def.ipynb\" target=\"_parent\"><img src=\"https://colab.research.google.com/assets/colab-badge.svg\" alt=\"Open In Colab\"/></a>"
      ]
    },
    {
      "cell_type": "code",
      "execution_count": null,
      "metadata": {
        "colab": {
          "base_uri": "https://localhost:8080/"
        },
        "id": "H3YPQ4ppP8K2",
        "outputId": "7c242e59-a5e9-49ab-f763-7bb6764d887c"
      },
      "outputs": [
        {
          "output_type": "execute_result",
          "data": {
            "text/plain": [
              "list"
            ]
          },
          "metadata": {},
          "execution_count": 1
        }
      ],
      "source": [
        "a=[1,2,\"abcd\"]\n",
        "type(a)"
      ]
    },
    {
      "cell_type": "code",
      "source": [
        "for things in a:\n",
        "  print(things)\n",
        "for i in range(len(a)):\n",
        "  print(f\"value={a[i]},datatype={type(a[i])}\")"
      ],
      "metadata": {
        "colab": {
          "base_uri": "https://localhost:8080/"
        },
        "id": "FtooiwNCQDX7",
        "outputId": "941eed1b-479d-4fd2-8d11-f7dd1f69bacb"
      },
      "execution_count": null,
      "outputs": [
        {
          "output_type": "stream",
          "name": "stdout",
          "text": [
            "1\n",
            "2\n",
            "abcd\n",
            "value=1,datatype=<class 'int'>\n",
            "value=2,datatype=<class 'int'>\n",
            "value=abcd,datatype=<class 'str'>\n"
          ]
        }
      ]
    },
    {
      "cell_type": "code",
      "source": [
        "a[1]"
      ],
      "metadata": {
        "colab": {
          "base_uri": "https://localhost:8080/"
        },
        "id": "1-YRdloMQL0v",
        "outputId": "84b22753-dd60-40c6-eec1-b8a0a9fbb1f6"
      },
      "execution_count": null,
      "outputs": [
        {
          "output_type": "execute_result",
          "data": {
            "text/plain": [
              "2"
            ]
          },
          "metadata": {},
          "execution_count": 7
        }
      ]
    },
    {
      "cell_type": "code",
      "source": [
        "b=[0,1,2,3,4,5,6,7,8,9]\n"
      ],
      "metadata": {
        "id": "UoFaxQxvQo59"
      },
      "execution_count": null,
      "outputs": []
    },
    {
      "cell_type": "code",
      "source": [
        "b[0:10:2]  #start , end, steps"
      ],
      "metadata": {
        "colab": {
          "base_uri": "https://localhost:8080/"
        },
        "id": "TBBOZysPSPbj",
        "outputId": "cee4ebad-e0a6-468d-a07e-2aaafcec378e"
      },
      "execution_count": null,
      "outputs": [
        {
          "output_type": "execute_result",
          "data": {
            "text/plain": [
              "[0, 2, 4, 6, 8]"
            ]
          },
          "metadata": {},
          "execution_count": 16
        }
      ]
    },
    {
      "cell_type": "code",
      "source": [
        "b[::-1]"
      ],
      "metadata": {
        "colab": {
          "base_uri": "https://localhost:8080/"
        },
        "id": "tAG-spphSXnA",
        "outputId": "51bc669d-35fc-4f7e-b200-10734e66bfdd"
      },
      "execution_count": null,
      "outputs": [
        {
          "output_type": "execute_result",
          "data": {
            "text/plain": [
              "[9, 8, 7, 6, 5, 4, 3, 2, 1, 0]"
            ]
          },
          "metadata": {},
          "execution_count": 14
        }
      ]
    },
    {
      "cell_type": "code",
      "source": [
        "for i in range(0,10,2):\n",
        "  print(i ,b[i])"
      ],
      "metadata": {
        "colab": {
          "base_uri": "https://localhost:8080/"
        },
        "id": "cJQdnRf4S7H2",
        "outputId": "2e9332b2-fa05-4ebc-8e1b-ce6e62cd98fb"
      },
      "execution_count": null,
      "outputs": [
        {
          "output_type": "stream",
          "name": "stdout",
          "text": [
            "0 0\n",
            "2 2\n",
            "4 4\n",
            "6 6\n",
            "8 8\n"
          ]
        }
      ]
    },
    {
      "cell_type": "code",
      "source": [
        "a+b"
      ],
      "metadata": {
        "colab": {
          "base_uri": "https://localhost:8080/"
        },
        "id": "0u86y0CbUGvm",
        "outputId": "6e439e46-d0cc-4808-b325-dfbce8f45b34"
      },
      "execution_count": null,
      "outputs": [
        {
          "output_type": "execute_result",
          "data": {
            "text/plain": [
              "[1, 2, 'abcd', 0, 1, 2, 3, 4, 5, 6, 7, 8, 9]"
            ]
          },
          "metadata": {},
          "execution_count": 19
        }
      ]
    },
    {
      "cell_type": "code",
      "source": [
        "\n"
      ],
      "metadata": {
        "id": "zSnPeVHkWwIT"
      },
      "execution_count": null,
      "outputs": []
    },
    {
      "cell_type": "code",
      "source": [
        "a * 2"
      ],
      "metadata": {
        "colab": {
          "base_uri": "https://localhost:8080/"
        },
        "id": "y9PXHzNLW1AU",
        "outputId": "0daa80e0-35e4-4c4e-a76f-873cb7167b5b"
      },
      "execution_count": null,
      "outputs": [
        {
          "output_type": "execute_result",
          "data": {
            "text/plain": [
              "[1, 2, 'abcd', 1, 2, 'abcd']"
            ]
          },
          "metadata": {},
          "execution_count": 21
        }
      ]
    },
    {
      "cell_type": "code",
      "source": [
        "my_list=list()"
      ],
      "metadata": {
        "id": "UR5ExqQ2W_Lg"
      },
      "execution_count": null,
      "outputs": []
    },
    {
      "cell_type": "code",
      "source": [
        "len(my_list)"
      ],
      "metadata": {
        "colab": {
          "base_uri": "https://localhost:8080/"
        },
        "id": "f3P1NOw4YFJh",
        "outputId": "74a6ef73-9afb-4442-acca-2ce32476e1d0"
      },
      "execution_count": null,
      "outputs": [
        {
          "output_type": "execute_result",
          "data": {
            "text/plain": [
              "0"
            ]
          },
          "metadata": {},
          "execution_count": 24
        }
      ]
    },
    {
      "cell_type": "code",
      "source": [
        "list_of_items_to_purchase =list()\n",
        "\n",
        "for i in range(10):\n",
        "  user_input=input(\"enter the list of items to purchase: \")\n",
        "  list_of_items_to_purchase = list_of_items_to_purchase +  [user_input] \n",
        "print(list_of_items_to_purchase)"
      ],
      "metadata": {
        "colab": {
          "base_uri": "https://localhost:8080/"
        },
        "id": "vHdoeTr-YJ0h",
        "outputId": "ac490894-f8c3-4fce-f21c-65763f0f64ed"
      },
      "execution_count": null,
      "outputs": [
        {
          "output_type": "stream",
          "name": "stdout",
          "text": [
            "enter the list of items to purchase: pen\n",
            "enter the list of items to purchase: laptop\n",
            "enter the list of items to purchase: pemcil\n",
            "enter the list of items to purchase: scale\n",
            "enter the list of items to purchase: mobile\n",
            "enter the list of items to purchase: backcase\n",
            "enter the list of items to purchase: book\n",
            "enter the list of items to purchase: charger\n",
            "enter the list of items to purchase: adapter\n",
            "enter the list of items to purchase: usb cable\n",
            "['pen', 'laptop', 'pemcil', 'scale', 'mobile', 'backcase', 'book', 'charger', 'adapter', 'usb cable']\n"
          ]
        }
      ]
    },
    {
      "cell_type": "code",
      "source": [
        "list_of_items_to_purchase =list()\n",
        "\n",
        "n=int(input(\"Please let mw know how many items u need to purchase: \"))\n",
        "for i in range(n):\n",
        "  user_input=input(\"enter the list of items to purchase: \")\n",
        "  list_of_items_to_purchase = list_of_items_to_purchase +  [user_input] \n",
        "print(list_of_items_to_purchase)"
      ],
      "metadata": {
        "colab": {
          "base_uri": "https://localhost:8080/"
        },
        "id": "orrOhtA7YuOR",
        "outputId": "0f2a27da-c153-40ea-a93d-26df7f77fc5b"
      },
      "execution_count": null,
      "outputs": [
        {
          "output_type": "stream",
          "name": "stdout",
          "text": [
            "Please let mw know how many items u need to purchase: 3\n",
            "enter the list of items to purchase: pen\n",
            "enter the list of items to purchase: pencil\n",
            "enter the list of items to purchase: pen pencil\n",
            "['pen', 'pencil', 'pen pencil']\n"
          ]
        }
      ]
    },
    {
      "cell_type": "code",
      "source": [
        "list_of_items_to_purchase =list()\n",
        "\n",
        "n=int(input(\"Please let mw know how many items u need to purchase: \"))\n",
        "for i in range(n):\n",
        "  user_input=input(\"enter the list of items to purchase: \")\n",
        "  list_of_items_to_purchase = list_of_items_to_purchase +  [user_input] \n",
        "print(list_of_items_to_purchase)\n",
        "\n",
        "\n",
        "if \"Phone\" in list_of_items_to_purchase :\n",
        "  print(\"yes\")\n",
        "else:\n",
        "  print(\"not in the list\")"
      ],
      "metadata": {
        "colab": {
          "base_uri": "https://localhost:8080/"
        },
        "id": "SHbfkARjbsZ7",
        "outputId": "712375f3-2bb4-4e8e-d487-179e5a905fb0"
      },
      "execution_count": null,
      "outputs": [
        {
          "output_type": "stream",
          "name": "stdout",
          "text": [
            "Please let mw know how many items u need to purchase: 3\n",
            "enter the list of items to purchase: Phone\n",
            "enter the list of items to purchase: yes\n",
            "enter the list of items to purchase: nope\n",
            "['Phone', 'yes', 'nope']\n",
            "yes\n"
          ]
        }
      ]
    },
    {
      "cell_type": "code",
      "source": [
        "\n",
        "if \"Phone\" in list_of_items_to_purchase :\n",
        "  print(\"yes\")\n",
        "else:\n",
        "  print(\"not in the list\")\n",
        "  list_of_items_to_purchase = list_of_items_to_purchase + [\"Phone\"]"
      ],
      "metadata": {
        "colab": {
          "base_uri": "https://localhost:8080/"
        },
        "id": "6aeej86Jq1qt",
        "outputId": "3d4db964-f523-4c99-972d-b73b52319760"
      },
      "execution_count": null,
      "outputs": [
        {
          "output_type": "stream",
          "name": "stdout",
          "text": [
            "yes\n"
          ]
        }
      ]
    },
    {
      "cell_type": "code",
      "source": [
        "a=[123,45,45]"
      ],
      "metadata": {
        "id": "tNYEgQlNrZwR"
      },
      "execution_count": null,
      "outputs": []
    },
    {
      "cell_type": "code",
      "source": [
        "a"
      ],
      "metadata": {
        "colab": {
          "base_uri": "https://localhost:8080/"
        },
        "id": "SlhgtreR2Ag1",
        "outputId": "73af88ca-973e-44a0-c955-9b532532a3c0"
      },
      "execution_count": null,
      "outputs": [
        {
          "output_type": "execute_result",
          "data": {
            "text/plain": [
              "[123, 45, 45]"
            ]
          },
          "metadata": {},
          "execution_count": 40
        }
      ]
    },
    {
      "cell_type": "code",
      "source": [
        "a.append(1234)\n",
        "a\n"
      ],
      "metadata": {
        "colab": {
          "base_uri": "https://localhost:8080/"
        },
        "id": "8eEAnWgS2BJT",
        "outputId": "20146865-7827-4876-df33-4d0b06748e92"
      },
      "execution_count": null,
      "outputs": [
        {
          "output_type": "execute_result",
          "data": {
            "text/plain": [
              "[123, 45, 45, 1234]"
            ]
          },
          "metadata": {},
          "execution_count": 41
        }
      ]
    },
    {
      "cell_type": "code",
      "source": [
        "a.pop()"
      ],
      "metadata": {
        "colab": {
          "base_uri": "https://localhost:8080/"
        },
        "id": "UHMDSM6O2Hjz",
        "outputId": "050c305c-6d94-473c-f54f-8beee7a3dc7a"
      },
      "execution_count": null,
      "outputs": [
        {
          "output_type": "execute_result",
          "data": {
            "text/plain": [
              "1234"
            ]
          },
          "metadata": {},
          "execution_count": 42
        }
      ]
    },
    {
      "cell_type": "code",
      "source": [
        "a.pop(1)"
      ],
      "metadata": {
        "colab": {
          "base_uri": "https://localhost:8080/"
        },
        "id": "WBRw-g6l2L__",
        "outputId": "a55205a6-8168-48db-885e-ae42368a11c2"
      },
      "execution_count": null,
      "outputs": [
        {
          "output_type": "execute_result",
          "data": {
            "text/plain": [
              "45"
            ]
          },
          "metadata": {},
          "execution_count": 43
        }
      ]
    },
    {
      "cell_type": "code",
      "source": [
        "a.reverse()\n",
        "a"
      ],
      "metadata": {
        "colab": {
          "base_uri": "https://localhost:8080/"
        },
        "id": "UJNVSkWv2QqV",
        "outputId": "e77970a9-9947-43c6-dc86-b8c410670ac0"
      },
      "execution_count": null,
      "outputs": [
        {
          "output_type": "execute_result",
          "data": {
            "text/plain": [
              "[123, 45, 45]"
            ]
          },
          "metadata": {},
          "execution_count": 4
        }
      ]
    },
    {
      "cell_type": "code",
      "source": [
        "a.sort"
      ],
      "metadata": {
        "colab": {
          "base_uri": "https://localhost:8080/"
        },
        "id": "g972TUH_noE7",
        "outputId": "e84d8ee8-929d-49bb-e917-216cf0cfa848"
      },
      "execution_count": null,
      "outputs": [
        {
          "output_type": "execute_result",
          "data": {
            "text/plain": [
              "<function list.sort(*, key=None, reverse=False)>"
            ]
          },
          "metadata": {},
          "execution_count": 6
        }
      ]
    },
    {
      "cell_type": "markdown",
      "source": [
        "nested lists\n"
      ],
      "metadata": {
        "id": "Fj5zzNs4ucEH"
      }
    },
    {
      "cell_type": "code",
      "source": [
        "z=[[1,2,3],[4,5,6],[7,8,9]]\n",
        "z[1]\n",
        "z[2]"
      ],
      "metadata": {
        "colab": {
          "base_uri": "https://localhost:8080/"
        },
        "id": "QPMEWnl8ubsG",
        "outputId": "f3cf9259-8a9f-425e-fd5c-0187944d6e20"
      },
      "execution_count": null,
      "outputs": [
        {
          "output_type": "execute_result",
          "data": {
            "text/plain": [
              "[7, 8, 9]"
            ]
          },
          "metadata": {},
          "execution_count": 9
        }
      ]
    },
    {
      "cell_type": "code",
      "source": [
        "z=[[1,2,3],[4,5,6,[7,8,9]]]"
      ],
      "metadata": {
        "id": "W57a9gbRoCDC"
      },
      "execution_count": null,
      "outputs": []
    },
    {
      "cell_type": "code",
      "source": [
        "z[1][3]"
      ],
      "metadata": {
        "colab": {
          "base_uri": "https://localhost:8080/"
        },
        "id": "O7NdnNwiurmB",
        "outputId": "9a4d435a-2105-4190-b28f-a766e945ef5a"
      },
      "execution_count": null,
      "outputs": [
        {
          "output_type": "execute_result",
          "data": {
            "text/plain": [
              "[7, 8, 9]"
            ]
          },
          "metadata": {},
          "execution_count": 11
        }
      ]
    },
    {
      "cell_type": "markdown",
      "source": [
        "List Comprehension\n"
      ],
      "metadata": {
        "id": "ckt61NYFkRYu"
      }
    },
    {
      "cell_type": "code",
      "source": [
        "#list for the square of the numbers\n",
        "zx=[1,2,3,4,5,6,]\n",
        "\n",
        "ans=list()\n",
        "\n",
        "for ele in zx:\n",
        "  print(ele**2)\n",
        "  ans.append(ele*2)\n",
        "\n",
        "print(ans)"
      ],
      "metadata": {
        "id": "EoyrpRxpvBaG",
        "colab": {
          "base_uri": "https://localhost:8080/"
        },
        "outputId": "d4f40259-7a75-4001-a4e2-62c2d592005c"
      },
      "execution_count": 6,
      "outputs": [
        {
          "output_type": "stream",
          "name": "stdout",
          "text": [
            "1\n",
            "4\n",
            "9\n",
            "16\n",
            "25\n",
            "36\n",
            "[2, 4, 6, 8, 10, 12]\n"
          ]
        }
      ]
    },
    {
      "cell_type": "code",
      "source": [
        "amazon=[(\"watch\", 5000),(\"phone\",10000),(\"laptop\",50000),(\"shirt\",500)]\n",
        "n=input(\"please enter the list of items to Purchase: \")\n",
        "\n",
        "for i in amazon:\n",
        " if i[0]==n:\n",
        "   print(f\"You have added:{i} into the cart\")\n",
        " else:\n",
        "   print(f\"the item ur searching for is not available\")"
      ],
      "metadata": {
        "colab": {
          "base_uri": "https://localhost:8080/"
        },
        "id": "hFWSvR8ekox-",
        "outputId": "674fd7f4-ab20-4419-9c47-4960063eb2df"
      },
      "execution_count": 17,
      "outputs": [
        {
          "output_type": "stream",
          "name": "stdout",
          "text": [
            "please enter the list of items to Purchase: phone\n",
            "the item ur searching for is not available\n",
            "You have added:('phone', 10000) into the cart\n",
            "the item ur searching for is not available\n",
            "the item ur searching for is not available\n"
          ]
        }
      ]
    },
    {
      "cell_type": "markdown",
      "source": [
        "Def Functions\n"
      ],
      "metadata": {
        "id": "yadm3PFdPDMd"
      }
    },
    {
      "cell_type": "code",
      "source": [
        "def test():\n",
        "  pass\n",
        "  "
      ],
      "metadata": {
        "id": "RJhFExxIOppK"
      },
      "execution_count": 1,
      "outputs": []
    },
    {
      "cell_type": "code",
      "source": [
        "def test1():\n",
        "  print(\"my first function in python\")"
      ],
      "metadata": {
        "id": "emGqVErCPCF_"
      },
      "execution_count": 2,
      "outputs": []
    },
    {
      "cell_type": "code",
      "source": [
        "test1()"
      ],
      "metadata": {
        "colab": {
          "base_uri": "https://localhost:8080/"
        },
        "id": "63YfPsnOPTt0",
        "outputId": "58c0627e-4dcb-4cbf-90c1-b0bef7d1f41f"
      },
      "execution_count": 3,
      "outputs": [
        {
          "output_type": "stream",
          "name": "stdout",
          "text": [
            "my first function in python\n"
          ]
        }
      ]
    },
    {
      "cell_type": "code",
      "source": [
        "b=test1()"
      ],
      "metadata": {
        "colab": {
          "base_uri": "https://localhost:8080/"
        },
        "id": "TNEVbxJzPgb1",
        "outputId": "b69d03e3-d7e1-4c4c-a68b-00dd1fe06206"
      },
      "execution_count": 4,
      "outputs": [
        {
          "output_type": "stream",
          "name": "stdout",
          "text": [
            "my first function in python\n"
          ]
        }
      ]
    },
    {
      "cell_type": "code",
      "source": [
        "b"
      ],
      "metadata": {
        "id": "W7pqhPQ_ProK"
      },
      "execution_count": 5,
      "outputs": []
    },
    {
      "cell_type": "code",
      "source": [
        "def test3():\n",
        "  a=4+5*2\n",
        "  return a"
      ],
      "metadata": {
        "id": "2znK95NvPtBj"
      },
      "execution_count": 6,
      "outputs": []
    },
    {
      "cell_type": "code",
      "source": [
        "test3()"
      ],
      "metadata": {
        "colab": {
          "base_uri": "https://localhost:8080/"
        },
        "id": "qAaRH6XPUzL3",
        "outputId": "921480e2-b4d0-4a3d-b08e-45220da0e4a2"
      },
      "execution_count": 8,
      "outputs": [
        {
          "output_type": "execute_result",
          "data": {
            "text/plain": [
              "14"
            ]
          },
          "metadata": {},
          "execution_count": 8
        }
      ]
    },
    {
      "cell_type": "code",
      "source": [
        "def test5():\n",
        "    ab=[1,2,3,4,5,6,7,8,9]\n",
        "    zxc=0\n",
        "    for i in ab:\n",
        "        zxc=zxc+i\n",
        "    return zxc"
      ],
      "metadata": {
        "id": "T72I7FzlU0FM"
      },
      "execution_count": 12,
      "outputs": []
    },
    {
      "cell_type": "code",
      "source": [
        "test5() "
      ],
      "metadata": {
        "colab": {
          "base_uri": "https://localhost:8080/"
        },
        "id": "iaVWB3kjWLNX",
        "outputId": "4cd74747-2dad-4bd8-e6f6-0de9e35d6152"
      },
      "execution_count": 13,
      "outputs": [
        {
          "output_type": "execute_result",
          "data": {
            "text/plain": [
              "45"
            ]
          },
          "metadata": {},
          "execution_count": 13
        }
      ]
    },
    {
      "cell_type": "code",
      "source": [
        "def test6(a,b):\n",
        "     return a+b"
      ],
      "metadata": {
        "id": "9eaE7FLwWnYH"
      },
      "execution_count": 18,
      "outputs": []
    },
    {
      "cell_type": "code",
      "source": [
        "test6(\"Uma\",\"shankar\") \n"
      ],
      "metadata": {
        "colab": {
          "base_uri": "https://localhost:8080/",
          "height": 35
        },
        "id": "I8z45agxYRXT",
        "outputId": "29cbf8e5-11da-4860-ac5a-fa189c2a89de"
      },
      "execution_count": 20,
      "outputs": [
        {
          "output_type": "execute_result",
          "data": {
            "text/plain": [
              "'Umashankar'"
            ],
            "application/vnd.google.colaboratory.intrinsic+json": {
              "type": "string"
            }
          },
          "metadata": {},
          "execution_count": 20
        }
      ]
    },
    {
      "cell_type": "code",
      "source": [
        "def test(s):\n",
        "  count =0\n",
        "  for i in s:\n",
        "      if type(i)== str:\n",
        "         count= count +1\n",
        "  return count"
      ],
      "metadata": {
        "id": "QPCtH-bjYjrO"
      },
      "execution_count": 32,
      "outputs": []
    },
    {
      "cell_type": "code",
      "source": [
        "test(\"uma\")\n"
      ],
      "metadata": {
        "colab": {
          "base_uri": "https://localhost:8080/"
        },
        "id": "ngfsDGJswyPI",
        "outputId": "a716168c-e733-4031-fa67-3cba5524983c"
      },
      "execution_count": 33,
      "outputs": [
        {
          "output_type": "execute_result",
          "data": {
            "text/plain": [
              "3"
            ]
          },
          "metadata": {},
          "execution_count": 33
        }
      ]
    },
    {
      "cell_type": "code",
      "source": [
        "import socket\n",
        "socket.gethostbyname(socket.gethostname())"
      ],
      "metadata": {
        "colab": {
          "base_uri": "https://localhost:8080/",
          "height": 35
        },
        "id": "C4pylDDWw0jZ",
        "outputId": "bf714d94-2c91-4c25-bec3-6d168a59c214"
      },
      "execution_count": 40,
      "outputs": [
        {
          "output_type": "execute_result",
          "data": {
            "text/plain": [
              "'172.28.0.12'"
            ],
            "application/vnd.google.colaboratory.intrinsic+json": {
              "type": "string"
            }
          },
          "metadata": {},
          "execution_count": 40
        }
      ]
    },
    {
      "cell_type": "code",
      "source": [
        "import smtplib, ssl\n",
        "port = 465\n",
        "smtp_server = \"smtp.gmail.com\"\n",
        "sender_email = \"umashankerkh@gmail.com\"\n",
        "receiver_email = \"mishanregmi@gmail.com\"\n",
        "password = 'gvpefqinqmgylogi'\n",
        "message = \"\"\"this is my message from python code\"\"\"\n",
        "\n",
        "context = ssl.create_default_context()\n",
        "with smtplib.SMTP_SSL(smtp_server, port, context=context) as server:\n",
        "     server.login(sender_email, password) \n",
        "     server.sendmail(sender_email, receiver_email,message)"
      ],
      "metadata": {
        "id": "kVywIlnD0fLi"
      },
      "execution_count": 50,
      "outputs": []
    },
    {
      "cell_type": "code",
      "source": [
        "\n",
        "pip install doc2txt"
      ],
      "metadata": {
        "colab": {
          "base_uri": "https://localhost:8080/"
        },
        "id": "g5UUGbJSENVQ",
        "outputId": "d64e4e28-bef3-4cc9-90da-fb3ce6afb6f1"
      },
      "execution_count": 51,
      "outputs": [
        {
          "output_type": "stream",
          "name": "stdout",
          "text": [
            "Looking in indexes: https://pypi.org/simple, https://us-python.pkg.dev/colab-wheels/public/simple/\n",
            "\u001b[31mERROR: Could not find a version that satisfies the requirement doc2txt (from versions: none)\u001b[0m\u001b[31m\n",
            "\u001b[0m\u001b[31mERROR: No matching distribution found for doc2txt\u001b[0m\u001b[31m\n",
            "\u001b[0m"
          ]
        }
      ]
    },
    {
      "cell_type": "code",
      "source": [],
      "metadata": {
        "id": "SJuEHAcXREfF"
      },
      "execution_count": null,
      "outputs": []
    }
  ]
}