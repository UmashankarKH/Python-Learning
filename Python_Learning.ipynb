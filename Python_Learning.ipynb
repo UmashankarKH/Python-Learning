{
  "cells": [
    {
      "cell_type": "markdown",
      "metadata": {
        "id": "view-in-github",
        "colab_type": "text"
      },
      "source": [
        "<a href=\"https://colab.research.google.com/github/UmashankarKH/lwprojgithub/blob/master/Python_Learning.ipynb\" target=\"_parent\"><img src=\"https://colab.research.google.com/assets/colab-badge.svg\" alt=\"Open In Colab\"/></a>"
      ]
    },
    {
      "cell_type": "code",
      "execution_count": null,
      "metadata": {
        "colab": {
          "base_uri": "https://localhost:8080/"
        },
        "id": "Ohrfp23mvAvC",
        "outputId": "fe8264ec-2f62-4eaa-e06a-4b3a7479bed6"
      },
      "outputs": [
        {
          "name": "stdout",
          "output_type": "stream",
          "text": [
            "what is ur name : umashankar k h\n",
            "what is your age : 23\n",
            "Hi umashankar k h your age is 23\n",
            "please tell me your phone number : 9483632823\n",
            "please tell me ur address as well: 5th cross jp nagar bangalore\n",
            "Hi umashankar k h your age is 23 , your phone number is 9483632823 and your current address is 5th cross jp nagar bangalore\n"
          ]
        }
      ],
      "source": [
        "x= input(\"what is ur name : \")\n",
        "y=input (\"what is your age : \")\n",
        "print(f\"Hi {x} your age is {y}\")\n",
        "z=int(input(\"please tell me your phone number : \" ))\n",
        "zx=input(\"please tell me ur address as well: \")\n",
        "print(f\"Hi {x} your age is {y} , your phone number is {z} and your current address is {zx}\")\n",
        "\n",
        "\n"
      ]
    },
    {
      "cell_type": "code",
      "execution_count": null,
      "metadata": {
        "colab": {
          "base_uri": "https://localhost:8080/"
        },
        "id": "ASurruNDxaYO",
        "outputId": "de108600-d991-45d4-d3ef-74e3a145bc6e"
      },
      "outputs": [
        {
          "name": "stdout",
          "output_type": "stream",
          "text": [
            "Please enter ur first name: Umashankar\n",
            "please enter ur last name : KH\n",
            "Umashankar.KH@gmail.com\n"
          ]
        }
      ],
      "source": [
        "firstname=input(\"Please enter ur first name: \") \n",
        "lastname=input(\"please enter ur last name : \")\n",
        "print(f\"{firstname}.{lastname}@gmail.com\")"
      ]
    },
    {
      "cell_type": "code",
      "execution_count": null,
      "metadata": {
        "colab": {
          "base_uri": "https://localhost:8080/"
        },
        "id": "--gQE3JiGBfb",
        "outputId": "31c2d816-b85d-48c2-9b22-ed413f64fdd6"
      },
      "outputs": [
        {
          "name": "stdout",
          "output_type": "stream",
          "text": [
            "happy journey\n"
          ]
        }
      ],
      "source": [
        "driving = True\n",
        "if driving:\n",
        "  print(\"happy journey\")\n",
        "else :\n",
        "  print(\"Good night\")\n"
      ]
    },
    {
      "cell_type": "code",
      "execution_count": null,
      "metadata": {
        "colab": {
          "base_uri": "https://localhost:8080/"
        },
        "id": "F6xN0TmfpFVq",
        "outputId": "a8b2f411-2b67-4bfa-9ac5-d5d1e927a409"
      },
      "outputs": [
        {
          "output_type": "stream",
          "name": "stdout",
          "text": [
            "75\n",
            "75\n",
            "elgible\n"
          ]
        }
      ],
      "source": [
        "attendance=int(input())\n",
        "assignment=int(input())\n",
        "\n",
        "if attendance and assignment > 70:\n",
        "  print(\"elgible\")\n",
        "else:\n",
        "  print(\"not elgible\")\n"
      ]
    },
    {
      "cell_type": "markdown",
      "metadata": {
        "id": "W3leRMEIGGf8"
      },
      "source": []
    },
    {
      "cell_type": "code",
      "source": [
        "x=str(input(\"What is ur name: \"))\n",
        "y=str(input(\"Which sem are you into: \"))\n",
        "attendance=int(input(f\"Hi {x} Please enter your attendance in percent: \"))\n",
        "assignment=int(input(f\"Hi {x} please enter your assignment percent out of 100: \"))\n",
        "sports = True\n",
        "if (attendance or assignment > 70) or sports == True:\n",
        "  print(\"elgible\")\n",
        "else:\n",
        "  print(\"not elgible\")\n"
      ],
      "metadata": {
        "colab": {
          "base_uri": "https://localhost:8080/"
        },
        "id": "Ho1ipqouCkc-",
        "outputId": "b4dc8dbe-c7f8-4d78-91bf-71630f61acff"
      },
      "execution_count": null,
      "outputs": [
        {
          "output_type": "stream",
          "name": "stdout",
          "text": [
            "What is ur name: Umashankar K H\n",
            "Which sem are you into: s\n",
            "Hi Umashankar K H Please enter your attendance in percent: 80\n",
            "Hi Umashankar K H please enter your assignment percent out of 100: 80\n",
            "elgible\n"
          ]
        }
      ]
    },
    {
      "cell_type": "code",
      "source": [
        "x=str(input(\"What is ur name: \"))\n",
        "y=str(input(\"Which sem are you into: \"))\n",
        "a=int(input(f\"Hi {x} Please enter your marks out of 100 in sub1: \"))\n",
        "b=int(input(f\"Hi {x} Please enter your marks out of 100 in sub2: \"))\n",
        "c=int(input(f\"Hi {x} Please enter your marks out of 100 in sub3: \"))\n",
        "d=int(input(f\"Hi {x} Please enter your marks out of 100 in sub4: \"))\n",
        "e=int(input(f\"Hi {x} Please enter your marks out of 100 in sub5: \"))\n",
        "z=((a+b+c+d+e)/500)*100\n",
        "if z > 60:\n",
        "  print(\"Passed in distinction\")\n",
        "else:\n",
        "  print(\"passed\")\n",
        "print(f\"hi {x} your in {y} semester and for your given marks your percentage is : {z}\")"
      ],
      "metadata": {
        "colab": {
          "base_uri": "https://localhost:8080/"
        },
        "id": "VPC31ZgcTv2L",
        "outputId": "78646f42-0df5-409b-a3d0-2f8754a384e7"
      },
      "execution_count": null,
      "outputs": [
        {
          "output_type": "stream",
          "name": "stdout",
          "text": [
            "What is ur name: Mishan\n",
            "Which sem are you into: 5\n",
            "Hi Mishan Please enter your marks out of 100 in sub1: 50\n",
            "Hi Mishan Please enter your marks out of 100 in sub2: 50\n",
            "Hi Mishan Please enter your marks out of 100 in sub3: 50\n",
            "Hi Mishan Please enter your marks out of 100 in sub4: 50\n",
            "Hi Mishan Please enter your marks out of 100 in sub5: 50\n",
            "passed\n",
            "hi Mishan your in 5 semester and for your given marks your percentage is : 50.0\n"
          ]
        }
      ]
    },
    {
      "cell_type": "code",
      "source": [
        "5"
      ],
      "metadata": {
        "id": "mndfr9beCmUv"
      },
      "execution_count": null,
      "outputs": []
    },
    {
      "cell_type": "code",
      "source": [
        "a=1\n",
        "b=2\n",
        "id(a)\n",
        "id(b)"
      ],
      "metadata": {
        "colab": {
          "base_uri": "https://localhost:8080/"
        },
        "id": "LvCJ7D2tgkAo",
        "outputId": "fa4ce082-7615-494f-b397-74dbde0e9e9f"
      },
      "execution_count": null,
      "outputs": [
        {
          "output_type": "execute_result",
          "data": {
            "text/plain": [
              "9793120"
            ]
          },
          "metadata": {},
          "execution_count": 14
        }
      ]
    },
    {
      "cell_type": "code",
      "source": [
        "b=2\n",
        "print(id(b))"
      ],
      "metadata": {
        "colab": {
          "base_uri": "https://localhost:8080/"
        },
        "id": "IwDaA2lTgowb",
        "outputId": "a454b8f2-8d78-4c5a-d9c4-bd0ce2c95309"
      },
      "execution_count": null,
      "outputs": [
        {
          "output_type": "stream",
          "name": "stdout",
          "text": [
            "9793120\n"
          ]
        }
      ]
    },
    {
      "cell_type": "code",
      "source": [
        "a=1"
      ],
      "metadata": {
        "id": "NLEfxoi-guwd"
      },
      "execution_count": null,
      "outputs": []
    },
    {
      "cell_type": "code",
      "source": [
        "print(id(a))"
      ],
      "metadata": {
        "colab": {
          "base_uri": "https://localhost:8080/"
        },
        "id": "7F9ShGGsgw89",
        "outputId": "2f5b3dcb-801e-4b15-9b4a-f0c3959d6962"
      },
      "execution_count": null,
      "outputs": [
        {
          "output_type": "stream",
          "name": "stdout",
          "text": [
            "9793088\n"
          ]
        }
      ]
    },
    {
      "cell_type": "code",
      "source": [
        "attendance=int(input())\n",
        "assignment=int(input())\n",
        "previous_marks = int(input())\n",
        "\n",
        "if (attendance and assignment > 70):\n",
        "  print(\"elgible\")\n",
        "else:\n",
        "  print(\"not elgible\")\n",
        "if previous_marks >60:\n",
        "    print(\"elgible\")\n",
        "else:\n",
        "  print(\"not elgible\")"
      ],
      "metadata": {
        "id": "u16RlwAkgzrU",
        "colab": {
          "base_uri": "https://localhost:8080/"
        },
        "outputId": "2f70ffc0-dddf-4e4a-a386-2d6213aa69c3"
      },
      "execution_count": null,
      "outputs": [
        {
          "output_type": "stream",
          "name": "stdout",
          "text": [
            "75\n",
            "75\n",
            "50\n",
            "elgible\n",
            "not elgible\n"
          ]
        }
      ]
    },
    {
      "cell_type": "code",
      "source": [
        "a=4\n",
        "b=2\n",
        "print(a/b)\n",
        "print(a//b)"
      ],
      "metadata": {
        "colab": {
          "base_uri": "https://localhost:8080/"
        },
        "id": "dVIIgXKpwpwQ",
        "outputId": "6891d12b-ae8b-4afa-f7b5-88209f095972"
      },
      "execution_count": null,
      "outputs": [
        {
          "output_type": "stream",
          "name": "stdout",
          "text": [
            "2.0\n",
            "2\n"
          ]
        }
      ]
    },
    {
      "cell_type": "markdown",
      "source": [
        "String Methods\n"
      ],
      "metadata": {
        "id": "lCuZsZi4IYU2"
      }
    },
    {
      "cell_type": "code",
      "source": [
        "date=\"02-02-2023\"\n",
        "\n",
        "day=date[0:3]\n",
        "month=date[3:6]\n",
        "print(day)\n",
        "print(month)"
      ],
      "metadata": {
        "colab": {
          "base_uri": "https://localhost:8080/"
        },
        "id": "r5XEiNzKKOdZ",
        "outputId": "c5839e6e-4500-40f2-a1e4-afbf0c92dd25"
      },
      "execution_count": null,
      "outputs": [
        {
          "output_type": "stream",
          "name": "stdout",
          "text": [
            "02-\n",
            "02-\n"
          ]
        }
      ]
    },
    {
      "cell_type": "code",
      "source": [
        "### palindrome sequence###\n",
        "words= str(input(\"please enter the word or string: \"))\n",
        "reverse= words[: : -1]\n",
        "print(reverse)\n",
        "if words == reverse:\n",
        "  print(f\"The Given word {words} is a pallindrome\")\n",
        "else:\n",
        "    print(f\"The Given word {words} is not a pallindrome\")\n",
        "print(\"Thank You, please visit agian\")"
      ],
      "metadata": {
        "colab": {
          "base_uri": "https://localhost:8080/"
        },
        "id": "ayW4u5DbKb_j",
        "outputId": "44c504f2-eb1b-4e84-ada1-8edee9c20f54"
      },
      "execution_count": null,
      "outputs": [
        {
          "output_type": "stream",
          "name": "stdout",
          "text": [
            "please enter the word or string: mishan\n",
            "nahsim\n",
            "The Given word mishan is not a pallindrome\n",
            "Thank You, please visit agian\n"
          ]
        }
      ]
    },
    {
      "cell_type": "code",
      "source": [
        "c=int(input())\n",
        "b=int(input())\n",
        "a=int(input())\n",
        "total_amount = a+b+c\n",
        "\n",
        "if total_amount > 1000:\n",
        "  total_discount=total_amount*0.6\n",
        "  print(f\"total_prince will be : {total_amount}\")\n",
        "elif total_amount <= 999 and total_amount > 499:\n",
        "    total_discount= total_amount*0.8\n",
        "    print(f\"total_amount to be paid is: {total_discount}\")\n",
        "else:\n",
        "   print(f\"total_amount will be : {total_amount}\")\n"
      ],
      "metadata": {
        "id": "jrgaT2I2aCBn",
        "colab": {
          "base_uri": "https://localhost:8080/"
        },
        "outputId": "996a45c1-ab92-4d35-8abf-7a20e0f73768"
      },
      "execution_count": null,
      "outputs": [
        {
          "output_type": "stream",
          "name": "stdout",
          "text": [
            "100\n",
            "200\n",
            "300\n",
            "total_amount to be paid is: 480.0\n"
          ]
        }
      ]
    },
    {
      "cell_type": "code",
      "source": [
        "c=int(input())\n",
        "b=int(input())\n",
        "a=int(input())\n",
        "total_amount = a+b+c\n",
        "\n",
        "if total_amount > 1000:\n",
        "  total_discount=total_amount*0.6\n",
        "  print(f\"total_prince will be : {total_discount}\")\n",
        "elif total_amount <= 999 and total_amount > 499:\n",
        "    total_discount= total_amount*0.8\n",
        "    print(f\"total_amount to be paid is: {total_discount}\")\n",
        "else:\n",
        "   print(f\"total_amount will be : {total_amount}\")\n"
      ],
      "metadata": {
        "colab": {
          "base_uri": "https://localhost:8080/"
        },
        "id": "rfdut-8BGYO6",
        "outputId": "a21875b0-b2b9-43d8-f7ac-e191894c8f1b"
      },
      "execution_count": null,
      "outputs": [
        {
          "output_type": "stream",
          "name": "stdout",
          "text": [
            "1000\n",
            "1000\n",
            "1000\n",
            "total_prince will be : 1800.0\n"
          ]
        }
      ]
    },
    {
      "cell_type": "code",
      "source": [
        "for i in range(1,11):\n",
        "  print(f\"Table 10X{i}= {10*i}\")\n",
        "  "
      ],
      "metadata": {
        "id": "gZ5ds3rOIIi7",
        "colab": {
          "base_uri": "https://localhost:8080/"
        },
        "outputId": "d62a7443-c709-4c01-bd5e-c0910386fc47"
      },
      "execution_count": 3,
      "outputs": [
        {
          "output_type": "stream",
          "name": "stdout",
          "text": [
            "Table 10X1= 10\n",
            "Table 10X2= 20\n",
            "Table 10X3= 30\n",
            "Table 10X4= 40\n",
            "Table 10X5= 50\n",
            "Table 10X6= 60\n",
            "Table 10X7= 70\n",
            "Table 10X8= 80\n",
            "Table 10X9= 90\n",
            "Table 10X10= 100\n"
          ]
        }
      ]
    },
    {
      "cell_type": "code",
      "source": [],
      "metadata": {
        "id": "KeokCmbl4nko"
      },
      "execution_count": null,
      "outputs": []
    }
  ],
  "metadata": {
    "colab": {
      "provenance": [],
      "authorship_tag": "ABX9TyOETQHiMli2ID29K0nmx/WR",
      "include_colab_link": true
    },
    "kernelspec": {
      "display_name": "Python 3",
      "name": "python3"
    },
    "language_info": {
      "name": "python"
    }
  },
  "nbformat": 4,
  "nbformat_minor": 0
}