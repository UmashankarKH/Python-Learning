{
  "nbformat": 4,
  "nbformat_minor": 0,
  "metadata": {
    "colab": {
      "provenance": [],
      "authorship_tag": "ABX9TyOAsyZBmDWcDwvAv+ge2m4I",
      "include_colab_link": true
    },
    "kernelspec": {
      "name": "python3",
      "display_name": "Python 3"
    },
    "language_info": {
      "name": "python"
    }
  },
  "cells": [
    {
      "cell_type": "markdown",
      "metadata": {
        "id": "view-in-github",
        "colab_type": "text"
      },
      "source": [
        "<a href=\"https://colab.research.google.com/github/UmashankarKH/lwprojgithub/blob/master/Python_Learning.ipynb\" target=\"_parent\"><img src=\"https://colab.research.google.com/assets/colab-badge.svg\" alt=\"Open In Colab\"/></a>"
      ]
    },
    {
      "cell_type": "code",
      "execution_count": 1,
      "metadata": {
        "id": "E3CaRd68mffw"
      },
      "outputs": [],
      "source": [
        "a,b,c,d=1,2,3,4"
      ]
    },
    {
      "cell_type": "code",
      "source": [
        "print(a)"
      ],
      "metadata": {
        "colab": {
          "base_uri": "https://localhost:8080/"
        },
        "id": "FZptdAtnsiIK",
        "outputId": "bc604488-fa3d-4a91-f0c4-a0c58909ff13"
      },
      "execution_count": 2,
      "outputs": [
        {
          "output_type": "stream",
          "name": "stdout",
          "text": [
            "1\n"
          ]
        }
      ]
    },
    {
      "cell_type": "code",
      "source": [
        "b\n",
        "\n"
      ],
      "metadata": {
        "colab": {
          "base_uri": "https://localhost:8080/"
        },
        "id": "GqXbDyG-skdQ",
        "outputId": "5740f128-6e03-4159-c1df-35115081c9a7"
      },
      "execution_count": 3,
      "outputs": [
        {
          "output_type": "execute_result",
          "data": {
            "text/plain": [
              "2"
            ]
          },
          "metadata": {},
          "execution_count": 3
        }
      ]
    },
    {
      "cell_type": "code",
      "source": [
        "c"
      ],
      "metadata": {
        "colab": {
          "base_uri": "https://localhost:8080/"
        },
        "id": "jWgHcgLYuzS0",
        "outputId": "e3fdf5b3-9a88-4fa3-cea9-9cfabd6fac31"
      },
      "execution_count": 4,
      "outputs": [
        {
          "output_type": "execute_result",
          "data": {
            "text/plain": [
              "3"
            ]
          },
          "metadata": {},
          "execution_count": 4
        }
      ]
    },
    {
      "cell_type": "code",
      "source": [
        "d"
      ],
      "metadata": {
        "colab": {
          "base_uri": "https://localhost:8080/"
        },
        "id": "4jIVMB21u0qG",
        "outputId": "17bf9b6f-9c72-4581-f22d-3d0172901aee"
      },
      "execution_count": 5,
      "outputs": [
        {
          "output_type": "execute_result",
          "data": {
            "text/plain": [
              "4"
            ]
          },
          "metadata": {},
          "execution_count": 5
        }
      ]
    },
    {
      "cell_type": "code",
      "source": [
        "x= input(\"what is ur name : \")\n",
        "y=input (\"what is your age : \")\n",
        "print(f\"Hi {x} your age is {y}\")\n",
        "z=int(input(\"please tell me your phone number : \" ))\n",
        "zx=input(\"please tell me ur address as well: \")\n",
        "print(f\"Hi {x} your age is {y} , your phone number is {z} and your current address is {zx}\")\n",
        "\n",
        "\n"
      ],
      "metadata": {
        "colab": {
          "base_uri": "https://localhost:8080/"
        },
        "id": "Ohrfp23mvAvC",
        "outputId": "fe8264ec-2f62-4eaa-e06a-4b3a7479bed6"
      },
      "execution_count": 13,
      "outputs": [
        {
          "output_type": "stream",
          "name": "stdout",
          "text": [
            "what is ur name : umashankar k h\n",
            "what is your age : 23\n",
            "Hi umashankar k h your age is 23\n",
            "please tell me your phone number : 9483632823\n",
            "please tell me ur address as well: 5th cross jp nagar bangalore\n",
            "Hi umashankar k h your age is 23 , your phone number is 9483632823 and your current address is 5th cross jp nagar bangalore\n"
          ]
        }
      ]
    },
    {
      "cell_type": "code",
      "source": [
        "firstname=input(\"Please enter ur first name: \") \n",
        "lastname=input(\"please enter ur last name : \")\n",
        "print(f\"{firstname}.{lastname}@gmail.com\")"
      ],
      "metadata": {
        "colab": {
          "base_uri": "https://localhost:8080/"
        },
        "id": "ASurruNDxaYO",
        "outputId": "4c398168-ccee-443a-b6e7-0dfbfad22c43"
      },
      "execution_count": 18,
      "outputs": [
        {
          "output_type": "stream",
          "name": "stdout",
          "text": [
            "Please enter ur first name: Umashankar\n",
            "please enter ur last name : K H\n",
            "Umashankar.K H@gmail.com\n"
          ]
        }
      ]
    },
    {
      "cell_type": "code",
      "source": [],
      "metadata": {
        "id": "--gQE3JiGBfb"
      },
      "execution_count": null,
      "outputs": []
    },
    {
      "cell_type": "markdown",
      "source": [],
      "metadata": {
        "id": "W3leRMEIGGf8"
      }
    }
  ]
}