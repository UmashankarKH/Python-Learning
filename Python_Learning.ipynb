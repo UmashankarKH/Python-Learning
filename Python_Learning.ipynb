{
  "nbformat": 4,
  "nbformat_minor": 0,
  "metadata": {
    "colab": {
      "provenance": [],
      "authorship_tag": "ABX9TyOAsyZBmDWcDwvAv+ge2m4I",
      "include_colab_link": true
    },
    "kernelspec": {
      "name": "python3",
      "display_name": "Python 3"
    },
    "language_info": {
      "name": "python"
    }
  },
  "cells": [
    {
      "cell_type": "markdown",
      "metadata": {
        "id": "view-in-github",
        "colab_type": "text"
      },
      "source": [
        "<a href=\"https://colab.research.google.com/github/UmashankarKH/lwprojgithub/blob/master/Python_Learning.ipynb\" target=\"_parent\"><img src=\"https://colab.research.google.com/assets/colab-badge.svg\" alt=\"Open In Colab\"/></a>"
      ]
    },
    {
      "cell_type": "code",
      "execution_count": 1,
      "metadata": {
        "id": "E3CaRd68mffw"
      },
      
          "metadata": {},
          "execution_count": 5
        }
      ]
    },
    {
      "cell_type": "code",
      "source": [
        "x= input(\"what is ur name : \")\n",
        "y=input (\"what is your age : \")\n",
        "print(f\"Hi {x} your age is {y}\")\n",
        "z=int(input(\"please tell me your phone number : \" ))\n",
        "zx=input(\"please tell me ur address as well: \")\n",
        "print(f\"Hi {x} your age is {y} , your phone number is {z} and your current address is {zx}\")\n",
        "\n",
        "\n"
      ],
      "metadata": {
        "colab": {
          "base_uri": "https://localhost:8080/"
        },
        "id": "Ohrfp23mvAvC",
        "outputId": "fe8264ec-2f62-4eaa-e06a-4b3a7479bed6"
      },
      "execution_count": 13,
      "outputs": [
        {
          "output_type": "stream",
          "name": "stdout",
          "text": [
            "what is ur name : umashankar k h\n",
            "what is your age : 23\n",
            "Hi umashankar k h your age is 23\n",
            "please tell me your phone number : 9483632823\n",
            "please tell me ur address as well: 5th cross jp nagar bangalore\n",
            "Hi umashankar k h your age is 23 , your phone number is 9483632823 and your current address is 5th cross jp nagar bangalore\n"
          ]
        }
      ]
    },
    {
      "cell_type": "code",
      "source": [
        "firstname=input(\"Please enter ur first name: \") \n",
        "lastname=input(\"please enter ur last name : \")\n",
        "print(f\"{firstname}.{lastname}@gmail.com\")"
      ],
      "metadata": {
        "colab": {
          "base_uri": "https://localhost:8080/"
        },
        "id": "ASurruNDxaYO",
        "outputId": "4c398168-ccee-443a-b6e7-0dfbfad22c43"
      },
      "execution_count": 18,
      "outputs": [
        {
          "output_type": "stream",
          "name": "stdout",
          "text": [
            "Please enter ur first name: Umashankar\n",
            "please enter ur last name :KH\n",
            "Umashankar.K H@gmail.com\n"
          ]
        }
      ]
    },
    {
      "cell_type": "code",
      "source": [],
      "metadata": {
        "id": "--gQE3JiGBfb"
      },
      "execution_count": null,
      "outputs": []
    },
    {
      "cell_type": "markdown",
      "source": [],
      "metadata": {
        "id": "W3leRMEIGGf8"
      }
    }
  ]
}
